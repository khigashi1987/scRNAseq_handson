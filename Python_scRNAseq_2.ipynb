{
 "cells": [
  {
   "cell_type": "markdown",
   "id": "9448ac1c-bdc9-463d-a7f2-e00dd763f87f",
   "metadata": {},
   "source": [
    "# PythonによるscRNA-seq解析 その2"
   ]
  },
  {
   "cell_type": "code",
   "execution_count": null,
   "id": "4527561c-9589-43f9-835a-cc391db07b9a",
   "metadata": {},
   "outputs": [],
   "source": [
    "def warn(*args, **kwargs):\n",
    "    pass\n",
    "import warnings\n",
    "warnings.warn = warn\n",
    "\n",
    "import os\n",
    "import numpy as np\n",
    "import pandas as pd\n",
    "import scanpy as sc\n",
    "import scvi\n",
    "import matplotlib.pyplot as plt\n",
    "import seaborn as sns\n",
    "\n",
    "sc.settings.verbosity = 3\n",
    "sc.logging.print_header()\n",
    "sc.settings.set_figure_params(dpi=100, facecolor='white')"
   ]
  },
  {
   "cell_type": "code",
   "execution_count": null,
   "id": "fcacf368-df56-4fd7-a4a3-a4954bc0288a",
   "metadata": {},
   "outputs": [],
   "source": [
    "adata = sc.read_h5ad('./data/retinal.h5ad')"
   ]
  },
  {
   "cell_type": "markdown",
   "id": "d615c51c-60a1-4ba6-bd16-b4ae3eaba3d8",
   "metadata": {
    "tags": []
   },
   "source": [
    "## Cell typeの自動推定"
   ]
  },
  {
   "cell_type": "markdown",
   "id": "a3cff9dc",
   "metadata": {},
   "source": [
    "[CellAssign](https://doi.org/10.1038/s41592-019-0529-1)によるCell typeの自動推定。\n",
    "\n",
    "Zhang, A.W., O’Flanagan, C., Chavez, E.A. et al. Probabilistic cell-type assignment of single-cell RNA-seq for tumor microenvironment profiling. Nat Methods 16, 1007–1015 (2019)."
   ]
  },
  {
   "cell_type": "markdown",
   "id": "ee6fdc51",
   "metadata": {},
   "source": [
    "CellAssignは、事前知識としてCell typeの種類と、そのCell typeを識別するマーカー遺伝子の組み合わせの情報を使って、それぞれの細胞がいずれのCell typeに割り当てられるのか（あるいは\"unassigned\"か）の確率分布を計算してくれるツール。\n",
    "\n",
    "観測された値が、cell type, library size, batchの影響を受けると仮定。\n",
    "\n",
    "入力は遺伝子のカウントと、マーカー遺伝子・cell typeの対応のテーブル。発現量の閾値などの設定は必要ない。マーカーとcell typeの対応が0/1で表現されていればオーケー。\n",
    "\n",
    "基本的には、scVIと似たような負の二項分布のモデリング。バッチIDやライブラリサイズを取り込んで、細胞ごとにcell typeを表す潜在変数の確率分布をEMアルゴリズムで最尤推定する。オリジナルのR版はtensorflowで最適化しているが、scvi-toolsに取り込んで実装したバージョンではpytorchを使って最適化。\n",
    "\n",
    "マーカー遺伝子の情報は、エキスパートの知識で与えるか、[CellMarker](http://bio-bigdata.hrbmu.edu.cn/CellMarker/)、[PanglaoDB](https://panglaodb.se)など、マーカー遺伝子のデータベースからとってきて用意する。\n",
    "\n",
    "ここでは、CellMakerからダウンロードしたマウスのマーカー遺伝子全情報をまとめたエクセルファイルをダウンロードして、該当する組織（眼球・脳・胚）とアノテーションしたいCell typeに対応する遺伝子のリストを抽出し、0/1のテーブルにまとめている。エクセルファイルのサイズがでかいので講習では割愛。すでに処理済みの`eye_markers.csv`のテーブルを配布している。"
   ]
  },
  {
   "cell_type": "code",
   "execution_count": null,
   "id": "4579a045-50a7-4ac3-a57b-b2bfbf00d75e",
   "metadata": {
    "tags": []
   },
   "outputs": [],
   "source": [
    "%%script true\n",
    "target_labels = ['Amacrine cell', \n",
    "                 'Cone photoreceptor cell',\n",
    "                 'Horizontal cell',\n",
    "                 'Late activated neural stem cell',\n",
    "                 'Late neuroblast',\n",
    "                 'Neural progenitor cell',\n",
    "                 'Neuroblast',\n",
    "                 'Photoreceptor cell',\n",
    "                 'Retinal ganglion cell',\n",
    "                 'Retinal progenitor cell']\n",
    "\n",
    "all_markers = pd.read_excel('./models/marker_genes/Cell_marker_Mouse.xlsx')\n",
    "eye_markers = all_markers[(all_markers['tissue_class'] == 'Eye') | \\\n",
    "                          (all_markers['tissue_class'] == 'Brain') | \\\n",
    "                          (all_markers['tissue_class'] == 'Embryo')]\n",
    "eye_markers = eye_markers[['Symbol', 'cell_name']]\n",
    "eye_markers = eye_markers[eye_markers['cell_name'].isin(target_labels)]\n",
    "eye_markers['dummy'] = [1]*len(eye_markers)\n",
    "eye_markers = eye_markers.dropna()\n",
    "eye_markers = eye_markers.drop_duplicates(keep='first')\n",
    "eye_markers = eye_markers.pivot(index='Symbol', columns='cell_name', values='dummy')\n",
    "eye_markers = eye_markers.fillna(0).astype(int)\n",
    "eye_markers.to_csv('./models/marker_genes/eye_markers.csv')\n"
   ]
  },
  {
   "cell_type": "code",
   "execution_count": null,
   "id": "36833186-1fed-489f-8381-340ddbe18e09",
   "metadata": {},
   "outputs": [],
   "source": [
    "eye_markers = pd.read_csv('./models/marker_genes/eye_markers.csv', index_col=0)"
   ]
  },
  {
   "cell_type": "markdown",
   "id": "6c52fa91",
   "metadata": {},
   "source": [
    "以下のように、マーカー遺伝子対Cell typeの対応関係が0/1で表現されている。"
   ]
  },
  {
   "cell_type": "code",
   "execution_count": null,
   "id": "5cf41fd3-233c-466d-aeca-889367224fa3",
   "metadata": {
    "scrolled": true,
    "tags": []
   },
   "outputs": [],
   "source": [
    "eye_markers.head()"
   ]
  },
  {
   "cell_type": "markdown",
   "id": "04237133",
   "metadata": {},
   "source": [
    "CellAssignはライブラリサイズの情報が計算に必要。ここでは細胞に割り当てられたトータルリード数の、全細胞平均に対する比率で計算することにする。前処理段階で計算した 'total_counts' を流用しているが、カウントデータを使って足し算を計算しなおしてもいい。対数変換した値で足し算しちゃうとスケールが変わっておかしなことになっちゃうので注意。"
   ]
  },
  {
   "cell_type": "code",
   "execution_count": null,
   "id": "de8bbd79",
   "metadata": {},
   "outputs": [],
   "source": [
    "adata.obs['size_factor'] = adata.obs['total_counts'].values / adata.obs['total_counts'].values.mean()"
   ]
  },
  {
   "cell_type": "markdown",
   "id": "ae6d7734",
   "metadata": {},
   "source": [
    "マーカー遺伝子のうち、高発現変動遺伝子とオーバーラップするものだけ抽出。（計算速度のため。時間に余裕があれば発現変動遺伝子に限定せず全部のマーカー遺伝子を使ってもいい）\n",
    "\n",
    "該当のマーカー遺伝子の情報だけ取り出した新しい`anndata`オブジェクトを用意する。"
   ]
  },
  {
   "cell_type": "code",
   "execution_count": null,
   "id": "d464a906-62a5-4ca3-aff3-d7f6c31632f5",
   "metadata": {},
   "outputs": [],
   "source": [
    "eye_markers = eye_markers[np.isin(eye_markers.index, adata.var[adata.var['highly_variable'] == True].index)]\n",
    "bdata = adata[:, eye_markers.index].copy()"
   ]
  },
  {
   "cell_type": "markdown",
   "id": "db317ba9",
   "metadata": {},
   "source": [
    "モデルのセットアップ。ライブラリサイズやバッチに対応したラベルを指定して、カウントデータが格納されているレイヤーをセットする。"
   ]
  },
  {
   "cell_type": "code",
   "execution_count": null,
   "id": "6db685cf-4df7-40b3-9aef-a9ab0b69aeb7",
   "metadata": {},
   "outputs": [],
   "source": [
    "scvi.external.CellAssign.setup_anndata(bdata, \n",
    "    size_factor_key='size_factor',\n",
    "    batch_key='batch',\n",
    "    layer='counts')"
   ]
  },
  {
   "cell_type": "markdown",
   "id": "48e31f9e",
   "metadata": {},
   "source": [
    "学習の実行。やはり時間がかかるので講習では学習済みのモデルを配布。"
   ]
  },
  {
   "cell_type": "code",
   "execution_count": null,
   "id": "02c8c68d-b161-4917-bf1d-2124a21e6c6a",
   "metadata": {
    "tags": []
   },
   "outputs": [],
   "source": [
    "%%script true\n",
    "cellassign_model = scvi.external.CellAssign(bdata, eye_markers)\n",
    "cellassign_model.train()"
   ]
  },
  {
   "cell_type": "code",
   "execution_count": null,
   "id": "24324c1a-da70-4385-ba37-0c51cd0c5b74",
   "metadata": {},
   "outputs": [],
   "source": [
    "%%script true\n",
    "cellassign_model.save('./models/cellassign/', overwrite=True)"
   ]
  },
  {
   "cell_type": "code",
   "execution_count": null,
   "id": "9cb2ccc4-ce06-4d5b-a353-5c4caca23875",
   "metadata": {},
   "outputs": [],
   "source": [
    "cellassign_model = scvi.external.CellAssign.load('./models/cellassign', bdata)"
   ]
  },
  {
   "cell_type": "markdown",
   "id": "af716f8d",
   "metadata": {},
   "source": [
    "細胞ごとのcell type確率の予測。"
   ]
  },
  {
   "cell_type": "code",
   "execution_count": null,
   "id": "dca4302b-2a4a-4f5b-a83e-2aaac63a43bf",
   "metadata": {},
   "outputs": [],
   "source": [
    "predictions = cellassign_model.predict()"
   ]
  },
  {
   "cell_type": "code",
   "execution_count": null,
   "id": "ebe7dbd7-fdba-40d0-8af4-6628c16a0966",
   "metadata": {},
   "outputs": [],
   "source": [
    "predictions"
   ]
  },
  {
   "cell_type": "markdown",
   "id": "0b7422f4",
   "metadata": {},
   "source": [
    "確率最大のcell typeを各細胞に割り当てる。"
   ]
  },
  {
   "cell_type": "code",
   "execution_count": null,
   "id": "a147e18f-3d85-4f5b-93b5-275ee20e1ca1",
   "metadata": {},
   "outputs": [],
   "source": [
    "bdata.obs['CellAssign_prediction'] = predictions.idxmax(axis=1).values"
   ]
  },
  {
   "cell_type": "code",
   "execution_count": null,
   "id": "f48db567",
   "metadata": {},
   "outputs": [],
   "source": [
    "bdata.obs"
   ]
  },
  {
   "cell_type": "markdown",
   "id": "8557c62b",
   "metadata": {},
   "source": [
    "UMAPで見ると以下のようにcell typeが分布している。"
   ]
  },
  {
   "cell_type": "code",
   "execution_count": null,
   "id": "575186cb-cc47-45db-b26b-78d201a0f99d",
   "metadata": {},
   "outputs": [],
   "source": [
    "sc.pl.umap(\n",
    "    bdata,\n",
    "    color=['leiden_scVI', 'CellAssign_prediction'],\n",
    "    frameon=False,\n",
    "    ncols=2\n",
    ")"
   ]
  },
  {
   "cell_type": "markdown",
   "id": "9e1a3e8f",
   "metadata": {},
   "source": [
    "精度を上げるには、マーカー遺伝子とアノテーションする細胞型の慎重な選択が必要。（ただそれを突き詰めていくとエキスパートの専門知識でマニュアルアノテーションするのと労力が変わらなくなっていく気もするが）\n",
    "\n",
    "いっぽうで、クラスタレベルではなく、細胞ひとつひとつの予測が可能な点は強み。数千個の細胞をマニュアルアノテーションするのは大変。"
   ]
  },
  {
   "cell_type": "markdown",
   "id": "2c28b44d",
   "metadata": {},
   "source": [
    "## アトラスとの統合・ラベル転移"
   ]
  },
  {
   "cell_type": "markdown",
   "id": "e90b2bfd",
   "metadata": {},
   "source": [
    "マーカー遺伝子を使ったアノテーションがあんまりうまくいってないっぽいので、今度は「リファレンスデータからのラベル転移」でやってみる。\n",
    "\n",
    "高精度なアノテーションが付与されたシングルセル解析データが大量に蓄積されているアトラスとして、マウスの場合はたとえば[Tabula Muris](https://tabula-muris.ds.czbiohub.org), [Tabula Muris Senis](https://tabula-muris-senis.ds.czbiohub.org)がある。\n",
    "\n",
    "ただどちらにも欲しい組織（網膜発生プロセス）が欲しい解像度で収載されていない。\n",
    "\n",
    "ここでは、別の論文のデータを使う。網膜神経系発生について、胚から産後まで10個のタイムポイントで大量の細胞（10万以上）を対象にシングルセル解析したデータ。\n",
    "\n",
    "Clark, Brian S., et al. \"Single-cell RNA-seq analysis of retinal development identifies NFI factors as regulating mitotic exit and late-born cell specification.\" Neuron 102.6 (2019): 1111-1126.\n",
    "[https://doi.org/10.1016/j.neuron.2019.04.010](https://doi.org/10.1016/j.neuron.2019.04.010)\n",
    "\n",
    "この論文の素晴らしいところは、すべての細胞の遺伝子発現カウントデータとcell typeのアノテーションを[公開してくれている](https://github.com/gofflab/developing_mouse_retina_scRNASeq)ところ。\n",
    "\n",
    "マウス網膜神経発生アトラスといって差し支えないこのデータを活用して、ここまで扱ってきたデータとの統合解析を実行し、アトラスに付与されたcell typeアノテーションをラベル転移（Label transfer）する。\n",
    "\n",
    "ラベル転移の半教師あり学習には [scANVI](https://docs.scvi-tools.org/en/stable/user_guide/models/scanvi.html#ref1) を使う。確率モデルの詳細は以下の論文を参照。\n",
    "\n",
    "Xu, Chenling, et al. \"Probabilistic harmonization and annotation of single‐cell transcriptomics data with deep generative models.\" Molecular systems biology 17.1 (2021): e9620. [https://doi.org/10.15252/msb.20209620](https://doi.org/10.15252/msb.20209620)\n",
    "\n",
    "scANVIはscvi-toolsにモデルのひとつとして実装されている。\n",
    "\n",
    "めっちゃデカいファイルで、GPU使わない場合は学習にも時間かかるので、データ読み込みと学習については講習では全部スキップ。学習されたモデルからラベルを予測した結果だけcsvファイルで配布する。"
   ]
  },
  {
   "cell_type": "markdown",
   "id": "1267492a",
   "metadata": {},
   "source": [
    "リファレンスデータの読み込み。マトリックス、遺伝子メタデータ、細胞メタデータがそれぞれ個別にファイルとして置いてあるので、それぞれ読み込んでひとつのanndataに統合する。"
   ]
  },
  {
   "cell_type": "code",
   "execution_count": null,
   "id": "5281c6d8",
   "metadata": {},
   "outputs": [],
   "source": [
    "%%script true\n",
    "mtx = sc.read_mtx('./ref_data/10x_mouse_retina_development.mtx')\n",
    "refdata = mtx.transpose()\n",
    "refdata.obs = pd.read_csv('./ref_data/10x_Mouse_retina_pData_umap2_CellType_annot_w_horiz.csv')\n",
    "refdata.obs = refdata.obs.set_index('barcode')\n",
    "refdata.var = pd.read_csv('./ref_data/10x_mouse_retina_development_feature.csv')\n",
    "refdata.var = refdata.var.set_index('gene_short_name')"
   ]
  },
  {
   "cell_type": "markdown",
   "id": "eb8ae36a",
   "metadata": {},
   "source": [
    "リファレンスデータのUMAP座標は計算済みのやつが細胞メタデータに記載されているので、`scanpy.pl.umap`で自動で読み込めるように、`obsm`の中に入れておく。このリファレンスデータの全体像がさくっと確認できる。"
   ]
  },
  {
   "cell_type": "code",
   "execution_count": null,
   "id": "74b3b726",
   "metadata": {},
   "outputs": [],
   "source": [
    "%%script true\n",
    "refdata.obsm['X_umap'] = refdata.obs[['umap_coord1', 'umap_coord2']].values\n",
    "sc.pl.umap(refdata, \n",
    "           color='umap2_CellType',\n",
    "           frameon=False)"
   ]
  },
  {
   "cell_type": "markdown",
   "id": "064e6822",
   "metadata": {},
   "source": [
    "クエリデータ（ここまで扱ってきたデータ）を **カウントデータ** として用意する。scANVIはscVIと同様、カウントデータを学習する確率モデルであるため。別レイヤーに取っておいたカウントのデータから新しいanndataを作る。\n",
    "\n",
    "リファレンスデータは 'sample' のラベルのところに別々のタイムポイントからとったサンプルのラベルが記載されている。これをバッチと捉えてバッチ補正を行いたいので、クエリ側のバッチラベル（\"E2\", \"F2\"）もここに記述しておく。"
   ]
  },
  {
   "cell_type": "code",
   "execution_count": null,
   "id": "e9ec2d1d",
   "metadata": {},
   "outputs": [],
   "source": [
    "%%script true\n",
    "from anndata import AnnData\n",
    "query = AnnData(X=adata.layers['counts'], obs=adata.obs, var=adata.var)\n",
    "query.obs['sample'] = query.obs['batch']"
   ]
  },
  {
   "cell_type": "markdown",
   "id": "51062209",
   "metadata": {},
   "source": [
    "リファレンスとクエリのデータをひとつのanndataにまとめる。"
   ]
  },
  {
   "cell_type": "code",
   "execution_count": null,
   "id": "628b0bb9",
   "metadata": {},
   "outputs": [],
   "source": [
    "%%script true\n",
    "refdata.var_names_make_unique()\n",
    "alldata = refdata.concatenate(query)"
   ]
  },
  {
   "cell_type": "markdown",
   "id": "f5cd11d0",
   "metadata": {},
   "source": [
    "前半でやったのと同じような、シングルセル解析の前処理をデータ全体に対して実行する。"
   ]
  },
  {
   "cell_type": "code",
   "execution_count": null,
   "id": "9c66e446",
   "metadata": {},
   "outputs": [],
   "source": [
    "%%script true\n",
    "alldata.layers['counts'] = alldata.X.copy()\n",
    "sc.pp.normalize_per_cell(alldata, counts_per_cell_after=1e4)\n",
    "sc.pp.log1p(alldata)\n",
    "alldata.raw = alldata"
   ]
  },
  {
   "cell_type": "code",
   "execution_count": null,
   "id": "4e188b63",
   "metadata": {},
   "outputs": [],
   "source": [
    "%%script true\n",
    "sc.pp.highly_variable_genes(alldata, flavor='seurat_v3', n_top_genes=2000, layer='counts', batch_key='sample')"
   ]
  },
  {
   "cell_type": "markdown",
   "id": "61f49aec",
   "metadata": {},
   "source": [
    "scVIを利用してデータ全体のバッチ補正を行う統合モデルを学習する。CPUで学習する場合は時間かかるので昼食でもとりにいく。帰ってきたら学習終わってる、くらいの計算時間で済むはず。"
   ]
  },
  {
   "cell_type": "code",
   "execution_count": null,
   "id": "60669ec9",
   "metadata": {},
   "outputs": [],
   "source": [
    "%%script  true\n",
    "scvi.model.SCVI.setup_anndata(alldata, layer='counts', batch_key='sample')"
   ]
  },
  {
   "cell_type": "code",
   "execution_count": null,
   "id": "dcd696b3",
   "metadata": {},
   "outputs": [],
   "source": [
    "%%script true\n",
    "integration_model = scvi.model.SCVI(alldata)\n",
    "integration_model.train()"
   ]
  },
  {
   "cell_type": "code",
   "execution_count": null,
   "id": "d5f701b0",
   "metadata": {},
   "outputs": [],
   "source": [
    "%%script true\n",
    "integration_model.save('./models/integration_model')"
   ]
  },
  {
   "cell_type": "code",
   "execution_count": null,
   "id": "ca13b90e",
   "metadata": {},
   "outputs": [],
   "source": [
    "%%script true\n",
    "integration_model = scvi.model.SCVI.load('./models/integration_model', alldata)"
   ]
  },
  {
   "cell_type": "markdown",
   "id": "d8d0e866",
   "metadata": {},
   "source": [
    "リファレンス側のデータでcell typeが記述されているカラム（'umap2_CellType'）が、クエリ側のデータでは現在 NaN になっているので、ここを全部 'Unknown' にセットしておく。"
   ]
  },
  {
   "cell_type": "code",
   "execution_count": null,
   "id": "6bf893d7",
   "metadata": {},
   "outputs": [],
   "source": [
    "%%script true\n",
    "alldata.obs['umap2_CellType'] = alldata.obs['umap2_CellType'].cat.add_categories('Unknown')\n",
    "alldata.obs = alldata.obs.fillna({'umap2_CellType':'Unknown'})"
   ]
  },
  {
   "cell_type": "markdown",
   "id": "0d400a7d",
   "metadata": {},
   "source": [
    "統合モデル、統合データ、未知ラベルのカラムと名前を指定してscANVIモデルをセットアップする。"
   ]
  },
  {
   "cell_type": "code",
   "execution_count": null,
   "id": "41d65570",
   "metadata": {},
   "outputs": [],
   "source": [
    "%%script true\n",
    "label_model = scvi.model.SCANVI.from_scvi_model(integration_model,\n",
    "                                                adata=alldata,\n",
    "                                                unlabeled_category='Unknown',\n",
    "                                                labels_key='umap2_CellType')"
   ]
  },
  {
   "cell_type": "markdown",
   "id": "2cda4233",
   "metadata": {},
   "source": [
    "ラベル転移の学習を実行する。ここはそれほど計算時間かからない（ようにパラメータを設定しているが精度はじゅうぶん出る）"
   ]
  },
  {
   "cell_type": "code",
   "execution_count": null,
   "id": "d354435b",
   "metadata": {},
   "outputs": [],
   "source": [
    "%%script true\n",
    "label_model.train(n_samples_per_label=100)\n",
    "label_model.save('./models/label_transfer')"
   ]
  },
  {
   "cell_type": "code",
   "execution_count": null,
   "id": "128e831d",
   "metadata": {},
   "outputs": [],
   "source": [
    "%%script true\n",
    "label_model = scvi.model.SCANVI.load('./models/label_transfer/', alldata)"
   ]
  },
  {
   "cell_type": "markdown",
   "id": "75eaa404",
   "metadata": {},
   "source": [
    "学習されたモデルでcell typeの予測を実行する。"
   ]
  },
  {
   "cell_type": "code",
   "execution_count": null,
   "id": "a0f4a396",
   "metadata": {},
   "outputs": [],
   "source": [
    "%%script true\n",
    "# predict関数で、soft=Trueとすれば、最大確率のラベルだけでなく、それぞれのラベルの確率値をちゃんと出してくれる\n",
    "alldata.obs['predicted_celltype'] = label_model.predict(alldata)"
   ]
  },
  {
   "cell_type": "markdown",
   "id": "f700107b",
   "metadata": {},
   "source": [
    "この予測結果全体からクエリ側に対応するデータだけ抜き出して、以下のようにcsvとして保存したのが配布しているデータ。"
   ]
  },
  {
   "cell_type": "code",
   "execution_count": null,
   "id": "be893a71",
   "metadata": {},
   "outputs": [],
   "source": [
    "%%script true\n",
    "predictions = alldata.obs[(alldata.obs['sample'] == 'E2') | (alldata.obs['sample'] == 'F2')]['predicted_celltype']\n",
    "predictions.index = predictions.index.str[:-2]\n",
    "predictions.to_csv('./models/label_transfer/celltype_predictions.csv')"
   ]
  },
  {
   "cell_type": "markdown",
   "id": "a9af2351",
   "metadata": {},
   "source": [
    "csvファイルをロード。"
   ]
  },
  {
   "cell_type": "code",
   "execution_count": null,
   "id": "815e5037",
   "metadata": {},
   "outputs": [],
   "source": [
    "predictions = pd.read_csv('./models/label_transfer/celltype_predictions.csv', index_col=0)"
   ]
  },
  {
   "cell_type": "code",
   "execution_count": null,
   "id": "ea07b1f8",
   "metadata": {},
   "outputs": [],
   "source": [
    "predictions"
   ]
  },
  {
   "cell_type": "markdown",
   "id": "b689792e",
   "metadata": {},
   "source": [
    "adataに予測されたラベルを格納。"
   ]
  },
  {
   "cell_type": "code",
   "execution_count": null,
   "id": "894be758",
   "metadata": {},
   "outputs": [],
   "source": [
    "adata.obs['predicted_celltype'] = predictions.loc[adata.obs.index, 'predicted_celltype']"
   ]
  },
  {
   "cell_type": "markdown",
   "id": "1dedf241",
   "metadata": {},
   "source": [
    "予測されたラベルの細胞数カウントは以下。それっぽいラベルが並んでいる。"
   ]
  },
  {
   "cell_type": "code",
   "execution_count": null,
   "id": "84ec8bb9",
   "metadata": {},
   "outputs": [],
   "source": [
    "adata.obs['predicted_celltype'].value_counts()"
   ]
  },
  {
   "cell_type": "markdown",
   "id": "2707da2c",
   "metadata": {},
   "source": [
    "以下が予測結果で色分けしたUMAP。\n",
    "\n",
    "RPCs は Retinal Progenitor Cells の略。\n",
    "\n",
    "RPCs からNeurogenicにつながって、Photoreceptor/Conesに分岐していく流れと、Amacrine/Horizontalに分岐していく流れと、Retinal ganglion cellsに分岐する3つの流れに分かれていることがわかった。"
   ]
  },
  {
   "cell_type": "code",
   "execution_count": null,
   "id": "ae817534",
   "metadata": {},
   "outputs": [],
   "source": [
    "sc.pl.umap(adata,\n",
    "    color=['leiden_scVI', 'predicted_celltype'],\n",
    "    frameon=False, alpha=0.5,\n",
    "    ncols=2)"
   ]
  },
  {
   "cell_type": "markdown",
   "id": "56b9244d",
   "metadata": {},
   "source": [
    "Leidenクラスタに名前をつけたいので、それぞれのクラスタに所属している細胞がどのcell typeラベルを持っているのか、数をクロス集計してみる。"
   ]
  },
  {
   "cell_type": "code",
   "execution_count": null,
   "id": "605a8228",
   "metadata": {},
   "outputs": [],
   "source": [
    "pd.crosstab(adata.obs['leiden_scVI'], adata.obs['predicted_celltype'])"
   ]
  },
  {
   "cell_type": "markdown",
   "id": "a7fdd3b9",
   "metadata": {},
   "source": [
    "このカウントを元に、多数決で以下のような適当な名前をつけた。"
   ]
  },
  {
   "cell_type": "code",
   "execution_count": null,
   "id": "e3640892",
   "metadata": {},
   "outputs": [],
   "source": [
    "leiden_to_celltypes = {\n",
    "    '0':'Late-RPCs-1', '1':'RGCs-3',\n",
    "    '2':'A/H-1', '3':'Late-RPCs-2', '4':'RGCs-2',\n",
    "    '5':'Early-RPCs', '6':'Neurogenic-1',\n",
    "    '7':'Photoreceptors',\n",
    "    '8':'RGCs-1',\n",
    "    '9':'Neurogenic-2',\n",
    "    '10':'A/H-2'}\n",
    "\n",
    "adata.obs['leiden_celltypes'] = [leiden_to_celltypes[v] for v in adata.obs['leiden_scVI'].values]"
   ]
  },
  {
   "cell_type": "markdown",
   "id": "b0c23da1",
   "metadata": {},
   "source": [
    "名前がついたLeidenクラスタを可視化してみる。"
   ]
  },
  {
   "cell_type": "code",
   "execution_count": null,
   "id": "098b9a79",
   "metadata": {},
   "outputs": [],
   "source": [
    "with plt.rc_context({\"figure.figsize\": (9, 9)}):\n",
    "    sc.pl.umap(adata,\n",
    "        color='leiden_celltypes',\n",
    "        legend_fontsize=10,\n",
    "        frameon=False, alpha=0.5,\n",
    "        legend_loc='on data')"
   ]
  },
  {
   "cell_type": "markdown",
   "id": "9f215504-497d-4745-98e9-520aea5f9be8",
   "metadata": {},
   "source": [
    "## RNA速度の推定"
   ]
  },
  {
   "cell_type": "markdown",
   "id": "34991b4a",
   "metadata": {},
   "source": [
    "### 事前準備（velocyto）"
   ]
  },
  {
   "cell_type": "markdown",
   "id": "b5e15ef4",
   "metadata": {},
   "source": [
    "scVeloを使うためには、spliced/unsplicedの二種類のカウントデータが必要となる。\n",
    "\n",
    "なので事前に [velocyto](http://velocyto.org/velocyto.py/index.html) を使って、Cell Rangerが生成したゲノムマッピングのBAMファイルから、spliced/unsplicedのカウントデータを作っておく。\n",
    "\n",
    "バッチごとに実行して、それぞれのバッチに属する細胞のspliced/unsplicedカウントを格納した [loom](https://linnarssonlab.org/loompy/index.html) データを作る。\n",
    "\n",
    "計算に時間がかかるので、講習ではすでにvelocyto計算済みの結果を配布している。\n",
    "\n",
    "velocytoは以下のコマンドで実行する。\n",
    "\n",
    "```bash\n",
    "velocyto run10x \\\n",
    "    -m /path/to/Cell_Ranger_References/mm10_rmsk.gtf \\\n",
    "    /path/to/RetinalBatchE2 \\\n",
    "    /path/to/Cell_Ranger_References/refdata-gex-mm10-2020-A/genes/genes.gtf\n",
    "\n",
    "velocyto run10x \\\n",
    "    -m /path/to/Cell_Ranger_References/mm10_rmsk.gtf \\\n",
    "    /path/to/RetinalBatchF2 \\\n",
    "    /path/to/Cell_Ranger_References/refdata-gex-mm10-2020-A/genes/genes.gtf\n",
    "```"
   ]
  },
  {
   "cell_type": "markdown",
   "id": "c0ad5a49",
   "metadata": {},
   "source": [
    "velocytoでバッチごとに推定したloomファイルを統合して書き出す。ここの統合処理も時間かかるので、統合後のデータを配布。"
   ]
  },
  {
   "cell_type": "code",
   "execution_count": null,
   "id": "75630e12-4e72-4bf6-b5b3-1742ffb0b8a3",
   "metadata": {},
   "outputs": [],
   "source": [
    "%%script true\n",
    "import loompy\n",
    "loompy.combine(['./data/RetinalBatchE2/velocyto/RetinalBatchE2.loom',\n",
    "                './data/RetinalBatchF2/velocyto/RetinalBatchF2.loom'],\n",
    "               output_file='./data/retinal_velo.loom')"
   ]
  },
  {
   "cell_type": "code",
   "execution_count": null,
   "id": "fc883a70-b9a7-4997-81f5-5d24700968e4",
   "metadata": {},
   "outputs": [],
   "source": [
    "import scvelo as scv\n",
    "scv.set_figure_params()"
   ]
  },
  {
   "cell_type": "markdown",
   "id": "a27333eb",
   "metadata": {},
   "source": [
    "spliced/unsplicedのカウントデータを遺伝子発現テーブルと統合する。細胞のバーコードで紐づけるので、長さの指定（インデックスのどの部分がバーコードか）が必要になることに注意。"
   ]
  },
  {
   "cell_type": "code",
   "execution_count": null,
   "id": "59a1f58f-5cdb-417f-af58-f451154d7d1d",
   "metadata": {},
   "outputs": [],
   "source": [
    "ldata = scv.read('./data/retinal_velo.loom', cache=True)\n",
    "\n",
    "# id_lengthは細胞を区別するバーコード配列の長さ。事前に確認しておく\n",
    "# また、scVIのmerge関数は勝手にこれまでのクラスタの色指定をリセットしちゃうので一時退避させて再設定しておく\n",
    "# 'uns'(unstructured)は特に構造の決まってない雑多なメタデータを格納しておく場所。\n",
    "cluster_colors = adata.uns['leiden_celltypes_colors']\n",
    "adata = scv.utils.merge(adata, ldata, id_length=16)\n",
    "adata.uns['leiden_celltypes_colors'] = cluster_colors"
   ]
  },
  {
   "cell_type": "markdown",
   "id": "faaf5e08",
   "metadata": {},
   "source": [
    "scVeloの関数で、遺伝子ごとのspliced/unsplicedカウントの比率を表示できる。実験プラットフォームにもよるが、だいたいunsplicedが25%程度らしい。クラスタごとにも表示。極端にunsplicedがとれてないクラスタがあるかどうかチェックする。"
   ]
  },
  {
   "cell_type": "code",
   "execution_count": null,
   "id": "c482c9a7-df46-4e43-9335-3fa631280e5d",
   "metadata": {},
   "outputs": [],
   "source": [
    "scv.pl.proportions(adata, groupby='leiden_celltypes')"
   ]
  },
  {
   "cell_type": "markdown",
   "id": "75024992",
   "metadata": {},
   "source": [
    "速度計算を実行する。近傍グラフの構成から。"
   ]
  },
  {
   "cell_type": "code",
   "execution_count": null,
   "id": "75e548fb-c60a-4318-8a93-4ecc83f8c80d",
   "metadata": {},
   "outputs": [],
   "source": [
    "# scVI補完の潜在空間上で近傍グラフ構成、一次・二次モーメント計算\n",
    "scv.pp.moments(adata, use_rep='X_scVI')"
   ]
  },
  {
   "cell_type": "markdown",
   "id": "81588c37",
   "metadata": {},
   "source": [
    "Splicing kineticsモデルのパラメータ推論。"
   ]
  },
  {
   "cell_type": "code",
   "execution_count": null,
   "id": "0e7e7154-75e2-4384-8cb3-103b83cadcd2",
   "metadata": {},
   "outputs": [],
   "source": [
    "scv.tl.velocity(adata, mode='stochastic')"
   ]
  },
  {
   "cell_type": "markdown",
   "id": "6b40f42c",
   "metadata": {},
   "source": [
    "速度ベクトルを元に、細胞から細胞への遷移確率を計算。"
   ]
  },
  {
   "cell_type": "code",
   "execution_count": null,
   "id": "5d9eef85-15fe-4a4c-95c6-0a7cc8a3473b",
   "metadata": {},
   "outputs": [],
   "source": [
    "scv.tl.velocity_graph(adata)"
   ]
  },
  {
   "cell_type": "markdown",
   "id": "6a50d392",
   "metadata": {},
   "source": [
    "速度ベクトルから構成した「流れ」をプロットしてみる。"
   ]
  },
  {
   "cell_type": "code",
   "execution_count": null,
   "id": "768270bf-406f-46b6-b575-acaa98b4c298",
   "metadata": {},
   "outputs": [],
   "source": [
    "scv.pl.velocity_embedding_stream(adata, \n",
    "        basis='X_umap', color='leiden_celltypes',\n",
    "        legend_fontsize=9,\n",
    "        smooth=0.8, min_mass=4)"
   ]
  },
  {
   "cell_type": "markdown",
   "id": "3af25b5b",
   "metadata": {},
   "source": [
    "Progenitorの集団からはじまって、わかりやすい三分岐。\n",
    "\n",
    "RNA速度を計算することによって、トランスクリプトームパターンの幾何学的な近接性だけで推定された 'Pseudo time' ではなく、速度情報をちゃんと織り込んだ細胞の 'Latent time' を計算できる。"
   ]
  },
  {
   "cell_type": "code",
   "execution_count": null,
   "id": "2b60c7df",
   "metadata": {},
   "outputs": [],
   "source": [
    "scv.tl.recover_dynamics(adata, n_jobs=1)\n",
    "scv.tl.recover_latent_time(\n",
    "    adata,\n",
    "    root_key='initial_states_probs', \n",
    "    end_key='terminal_states_probs')"
   ]
  },
  {
   "cell_type": "code",
   "execution_count": null,
   "id": "108620bd",
   "metadata": {
    "scrolled": false
   },
   "outputs": [],
   "source": [
    "scv.pl.scatter(\n",
    "    adata,\n",
    "    color=['leiden_celltypes', 'latent_time'],\n",
    "    fontsize=16,\n",
    "    cmap='viridis',\n",
    "    perc=[2, 98],\n",
    "    colorbar=True,\n",
    "    rescale_color=[0, 1],\n",
    "    title=['clusters', 'latent time'])"
   ]
  },
  {
   "cell_type": "markdown",
   "id": "0c128d58",
   "metadata": {},
   "source": [
    "Progenitorの部分がごちゃごちゃしてわかりにくいので、取り出して個別に解析してみる。\n",
    "\n",
    "どうもグルグルとまわってるみたいなので、細胞周期のマーカー遺伝子発現をチェック。"
   ]
  },
  {
   "cell_type": "code",
   "execution_count": null,
   "id": "38c21932-ef54-4cc7-956b-bcf08c96ad5d",
   "metadata": {},
   "outputs": [],
   "source": [
    "prog = adata[adata.obs['leiden_celltypes'].isin(['Early-RPCs', 'Late-RPCs-1', 'Late-RPCs-2'])].copy()"
   ]
  },
  {
   "cell_type": "code",
   "execution_count": null,
   "id": "9ff01d53-cd18-454e-aa2a-6282ec31bdcb",
   "metadata": {},
   "outputs": [],
   "source": [
    "sc.pp.neighbors(prog, use_rep=\"X_scVI\", n_neighbors=50)\n",
    "sc.tl.umap(prog, min_dist=1.0)\n",
    "sc.pl.umap(prog, \n",
    "           ncols=2,\n",
    "           color=['Mcm6', 'Esco2', 'Top2a', 'Aurka', 'Cenpa'],\n",
    "           cmap='viridis',\n",
    "           frameon=False)"
   ]
  },
  {
   "cell_type": "markdown",
   "id": "2591a6cb",
   "metadata": {},
   "source": [
    "というわけで、このグルグルは細胞周期を反映しているのだった。\n",
    "\n",
    "この中だけで速度を描くとよりわかりやすい。"
   ]
  },
  {
   "cell_type": "code",
   "execution_count": null,
   "id": "95bbcf3f-9356-417e-8187-a9cdc3899809",
   "metadata": {},
   "outputs": [],
   "source": [
    "scv.pp.moments(prog, use_rep='X_scVI')\n",
    "scv.tl.velocity(prog, mode='stochastic')\n",
    "scv.tl.velocity_graph(prog)\n",
    "scv.pl.velocity_embedding_stream(prog, \n",
    "    basis='X_umap', color='leiden_celltypes',\n",
    "    smooth=0.8, min_mass=4)"
   ]
  },
  {
   "cell_type": "markdown",
   "id": "3bb0c20c",
   "metadata": {},
   "source": [
    "「膨らみ方」（splicing kinetics）は遺伝子ごとに異なる。scVeloのscatter関数では遺伝子ごとに、具体的にどのようなダイナミクスが推定されたのかプロットしてくれる。それぞれの遺伝子がそれぞれ異なるタイミング、異なるパターンで、induction => steady-state => repressionのパスを巡っている。"
   ]
  },
  {
   "cell_type": "code",
   "execution_count": null,
   "id": "006dd2c8",
   "metadata": {},
   "outputs": [],
   "source": [
    "scv.pl.scatter(prog, \n",
    "               ['Mcm6', 'Esco2', 'Top2a', 'Aurka', 'Cenpa'],\n",
    "               ncols=2,\n",
    "               color='leiden_celltypes')"
   ]
  },
  {
   "cell_type": "markdown",
   "id": "8e80a8de",
   "metadata": {},
   "source": [
    "細かく見ると印象が違ってくることもあるので、流れの全体像として粗視化されたパターンだけでなく、それぞれの速度をつぶさに見ていくことも大事。"
   ]
  },
  {
   "cell_type": "code",
   "execution_count": null,
   "id": "11500da1",
   "metadata": {},
   "outputs": [],
   "source": [
    "scv.pl.velocity_embedding(adata, figsize=(9, 9),\n",
    "        basis='X_umap', color='leiden_celltypes',\n",
    "        scale=0.5)"
   ]
  },
  {
   "cell_type": "markdown",
   "id": "fddee4ec-116d-4e9e-aba8-e1b09c54cf99",
   "metadata": {},
   "source": [
    "## 細胞運命の推定"
   ]
  },
  {
   "cell_type": "markdown",
   "id": "2b44240a",
   "metadata": {},
   "source": [
    "Trajectoryを推定するツールは数多あるが、幾何学的な近接性だけではなくRNA速度情報も考慮に入れて道筋を推定するツールはあまり多くない。\n",
    "\n",
    "ここでは、幾何学的近接性をベースにしたTrajectory解析のロバスト性と、RNA速度による方向情報を組み合わせることによって、方向づけされた、確率的な状態変化の軌跡を推定するツール、 **CellRank** を使ってみる。\n",
    "\n",
    "Lange, Marius, et al. \"CellRank for directed single-cell fate mapping.\" Nature methods 19.2 (2022): 159-170.\n",
    "[https://doi.org/10.1038/s41592-021-01346-6](https://doi.org/10.1038/s41592-021-01346-6)\n",
    "\n",
    "近傍グラフ上で細胞それぞれを状態としたマルコフ連鎖を考え、速度ベクトルと遺伝子発現パターンの類似性のふたつを加味して、細胞間の遷移確率を推定、それにより細胞系譜の初期・中間・終端の細胞集団を特定して、細胞運命決定の確率的な性質とRNA速度推定の不確かさを織り込んだ、細胞の「運命確率」を計算できる。また、細胞系譜を駆動する遺伝子を特定し、その系譜に特異的な遺伝子の発現トレンドを明らかにすることができる。\n",
    "\n",
    "CellRankの計算には、事前にscVeloなどのツールを利用して速度ベクトルを計算しておくことが必要。"
   ]
  },
  {
   "cell_type": "code",
   "execution_count": null,
   "id": "d8d7d8c2-3639-4474-854e-fc6b83b00551",
   "metadata": {},
   "outputs": [],
   "source": [
    "import cellrank as cr\n",
    "import numpy as np\n",
    "cr.settings.verbosity = 2"
   ]
  },
  {
   "cell_type": "markdown",
   "id": "01363aba-4356-4f38-a64e-bbb2cc4be831",
   "metadata": {},
   "source": [
    "### Terminal statesの推定"
   ]
  },
  {
   "cell_type": "markdown",
   "id": "83d703c3",
   "metadata": {},
   "source": [
    "細胞系譜の「終端」の状態に該当する細胞集団を特定する。"
   ]
  },
  {
   "cell_type": "code",
   "execution_count": null,
   "id": "44f7da92-0865-487c-8fe7-ea40a5158ee2",
   "metadata": {
    "scrolled": false
   },
   "outputs": [],
   "source": [
    "cr.tl.terminal_states(adata, \n",
    "                      cluster_key='leiden_celltypes', \n",
    "                      weight_connectivities=0.5,\n",
    "                      n_states=4,\n",
    "                      mode='deterministic',\n",
    "                      force_recompute=True)"
   ]
  },
  {
   "cell_type": "code",
   "execution_count": null,
   "id": "bfdd2246-cc86-4cb0-91e1-3db3694a820d",
   "metadata": {},
   "outputs": [],
   "source": [
    "cr.pl.terminal_states(adata)"
   ]
  },
  {
   "cell_type": "markdown",
   "id": "a5beb5b9-da7a-486b-8234-30867c76da5d",
   "metadata": {},
   "source": [
    "### Initial statesの推定"
   ]
  },
  {
   "cell_type": "markdown",
   "id": "7e8f853f",
   "metadata": {},
   "source": [
    "細胞系譜の「初期」状態に該当する細胞集団を特定する。"
   ]
  },
  {
   "cell_type": "code",
   "execution_count": null,
   "id": "eed3cc5c-3c33-4994-aabf-3a98acb9ce95",
   "metadata": {},
   "outputs": [],
   "source": [
    "cr.tl.initial_states(adata, \n",
    "                     cluster_key='leiden_celltypes', \n",
    "                     weight_connectivities=0.5,\n",
    "                     force_recompute=True)\n",
    "cr.pl.initial_states(adata, discrete=True)"
   ]
  },
  {
   "cell_type": "markdown",
   "id": "29400f4e-fcdb-43ae-9515-ed7f276d5943",
   "metadata": {},
   "source": [
    "### Fate mapの推定"
   ]
  },
  {
   "cell_type": "markdown",
   "id": "6f483001",
   "metadata": {},
   "source": [
    "推定された終端状態に向けて、それぞれの細胞が「どの終端にどれだけの確率で向かうか」を推定する。"
   ]
  },
  {
   "cell_type": "code",
   "execution_count": null,
   "id": "551fe4a3-35b1-40e7-9f04-f5273284ad93",
   "metadata": {},
   "outputs": [],
   "source": [
    "cr.tl.lineages(adata)\n",
    "cr.pl.lineages(adata, \n",
    "               ncols=2,\n",
    "               same_plot=False)"
   ]
  },
  {
   "cell_type": "markdown",
   "id": "05a1164c-ade1-4fc5-8f4f-6f99bcc2e6d0",
   "metadata": {},
   "source": [
    "### Lineage driverの推定"
   ]
  },
  {
   "cell_type": "markdown",
   "id": "aa6a19bb",
   "metadata": {},
   "source": [
    "細胞系譜を駆動する遺伝子を見つける。\n",
    "\n",
    "これは単純にピアソン相関でランキングしているらしい。それぞれの終端に向けた運命確率が計算済みなので、細胞ごとに運命確率と遺伝子発現量の相関を計算して、それが高い遺伝子が細胞系譜を駆動している、という仮定。\n",
    "\n",
    "結果は全遺伝子について、それぞれの終端ごとの相関係数とピアソン相関のp-valueなどが入ったデータフレームとして出力される。"
   ]
  },
  {
   "cell_type": "code",
   "execution_count": null,
   "id": "741dcb96-a180-4b73-89e8-c3ef91988a11",
   "metadata": {},
   "outputs": [],
   "source": [
    "cr.tl.lineage_drivers(adata,\n",
    "    cluster_key='leiden_celltypes')"
   ]
  },
  {
   "cell_type": "markdown",
   "id": "1ab6732b",
   "metadata": {},
   "source": [
    "終端ごとにそれぞれの発現量をプロットしてみる。"
   ]
  },
  {
   "cell_type": "code",
   "execution_count": null,
   "id": "802f4d80-799d-4e6a-92c6-bb81cb0ad1db",
   "metadata": {},
   "outputs": [],
   "source": [
    "cr.pl.lineage_drivers(adata,\n",
    "    lineage='Photoreceptors', n_genes=4, ncols=4)"
   ]
  },
  {
   "cell_type": "code",
   "execution_count": null,
   "id": "2bbfab0e",
   "metadata": {},
   "outputs": [],
   "source": [
    "cr.pl.lineage_drivers(adata,\n",
    "    lineage='A/H-1', n_genes=4, ncols=4)"
   ]
  },
  {
   "cell_type": "code",
   "execution_count": null,
   "id": "83e7ef25",
   "metadata": {},
   "outputs": [],
   "source": [
    "cr.pl.lineage_drivers(adata,\n",
    "    lineage='RGCs-2', n_genes=4, ncols=4)"
   ]
  },
  {
   "cell_type": "markdown",
   "id": "48efb932-fe87-4637-ad63-2616db008f30",
   "metadata": {},
   "source": [
    "### 遺伝子発現トレンド"
   ]
  },
  {
   "cell_type": "markdown",
   "id": "730c8f89",
   "metadata": {},
   "source": [
    "細胞が辿る終端に向けた道筋の上で、遺伝子発現がどのようなトレンドで推移しているのかを計算し、プロットできる。\n",
    "\n",
    "単純にscVeloで計算したlatent timeに対する全細胞の平均的な発現量を見るのではなく、それぞれの運命への所属確率で発現量を重み付けして表現している。"
   ]
  },
  {
   "cell_type": "code",
   "execution_count": null,
   "id": "4c3d0a27-5377-42eb-88a5-f8c8995d3547",
   "metadata": {
    "scrolled": false
   },
   "outputs": [],
   "source": [
    "model = cr.ul.models.GAM(adata)\n",
    "cr.pl.gene_trends(\n",
    "    adata,\n",
    "    model=model,\n",
    "    data_key='X',\n",
    "    genes=['Gngt2', 'Tfap2b', 'Pou4f1'],\n",
    "    ncols=3,\n",
    "    time_key=\"latent_time\",\n",
    "    same_plot=True,\n",
    "    hide_cells=True,\n",
    "    figsize=(15, 4),\n",
    "    n_test_points=200)"
   ]
  },
  {
   "cell_type": "markdown",
   "id": "077c41d4",
   "metadata": {},
   "source": [
    "また、lineage driverとして特定された複数の遺伝子の発現トレンドの推移をヒートマップとしてプロットすることもできる。"
   ]
  },
  {
   "cell_type": "code",
   "execution_count": null,
   "id": "16042038-a553-4d76-be42-62378ab6e56f",
   "metadata": {},
   "outputs": [],
   "source": [
    "cr.pl.heatmap(\n",
    "    adata,\n",
    "    model,\n",
    "    genes=adata.varm['terminal_lineage_drivers']['A/H-1_corr'].sort_values(ascending=False).index[:100],\n",
    "    lineages='A/H-1')"
   ]
  },
  {
   "cell_type": "code",
   "execution_count": null,
   "id": "2d4924ae",
   "metadata": {},
   "outputs": [],
   "source": []
  }
 ],
 "metadata": {
  "kernelspec": {
   "display_name": "Python 3",
   "language": "python",
   "name": "python3"
  },
  "language_info": {
   "codemirror_mode": {
    "name": "ipython",
    "version": 3
   },
   "file_extension": ".py",
   "mimetype": "text/x-python",
   "name": "python",
   "nbconvert_exporter": "python",
   "pygments_lexer": "ipython3",
   "version": "3.9.15"
  }
 },
 "nbformat": 4,
 "nbformat_minor": 5
}
